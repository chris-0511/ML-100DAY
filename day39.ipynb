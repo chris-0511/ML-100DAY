{
 "cells": [
  {
   "cell_type": "markdown",
   "metadata": {},
   "source": [
    "清楚了解 L1, L2 的意義與差異為何，並了解 LASSO 與 Ridge 之間的差異與使用情境"
   ]
  },
  {
   "cell_type": "markdown",
   "metadata": {},
   "source": [
    "脊回归  https://blog.csdn.net/daunxx/article/details/51578787"
   ]
  },
  {
   "cell_type": "markdown",
   "metadata": {},
   "source": [
    "LASSO 回歸可以被用來作為 Feature selection 的工具，請了解 LASSO 模型為什麼可用來作 Feature selection\n",
    "當自變數 (X) 存在高度共線性時，Ridge Regression 可以處理這樣的問題嗎?\n",
    "Ans:\n",
    "\n",
    "因透過Lasso回歸後的模型，會將大部分的的參數變成0，剩下的就是代表有用的特徵，因此可以拿來做特徵選擇。\n",
    "\n",
    "當使用最小二乘法计算線性回歸模型參數的时候，如果數據集合矩陣（也叫做側記矩阵(design matrix)）X，存在多重共線性，那最小二乘法對输入變量中的雜訊非常的敏感，其解會極為不穩定。為了解决這个问题，就有了脊回歸（Ridge Regression ）。"
   ]
  },
  {
   "cell_type": "markdown",
   "metadata": {},
   "source": [
    "脊回歸簡單的代碼示例\n",
    "顯示了不同的alpha對模型參數w的影響程度。\n",
    "\n",
    "alpha越大，則w的數值上越小\n",
    "alpha越小，则w的數值上越大"
   ]
  },
  {
   "cell_type": "code",
   "execution_count": 2,
   "metadata": {},
   "outputs": [],
   "source": [
    "import numpy as np\n",
    "import matplotlib.pyplot as plt\n",
    "from sklearn import linear_model"
   ]
  },
  {
   "cell_type": "code",
   "execution_count": 3,
   "metadata": {},
   "outputs": [
    {
     "name": "stdout",
     "output_type": "stream",
     "text": [
      "設計矩陣為：\n",
      "[[1.         0.5        0.33333333 0.25       0.2       ]\n",
      " [0.5        0.33333333 0.25       0.2        0.16666667]\n",
      " [0.33333333 0.25       0.2        0.16666667 0.14285714]\n",
      " [0.25       0.2        0.16666667 0.14285714 0.125     ]\n",
      " [0.2        0.16666667 0.14285714 0.125      0.11111111]\n",
      " [0.16666667 0.14285714 0.125      0.11111111 0.1       ]\n",
      " [0.14285714 0.125      0.11111111 0.1        0.09090909]\n",
      " [0.125      0.11111111 0.1        0.09090909 0.08333333]\n",
      " [0.11111111 0.1        0.09090909 0.08333333 0.07692308]\n",
      " [0.1        0.09090909 0.08333333 0.07692308 0.07142857]]\n"
     ]
    }
   ],
   "source": [
    "# 這裡設計矩陣X是一個希爾伯特矩陣（Hilbert matrix）\n",
    "# 其元素A（i, j）= 1 / (i + j -1), i和j分别為其行和列\n",
    "# 希爾伯特矩陣是一種數學變換矩陣，正定 ，且高度病態\n",
    "# 即，任何一个元素發生一點變動，整個矩陣的行列式的值和逆矩陣都會發生巨大變化\n",
    "\n",
    "# 這裡矩陣是一個10x5的矩陣，即有10個樣本，5个變量\n",
    "X = 1. / (np.arange(1, 6) + np.arange(0, 10)[:, np.newaxis])\n",
    "y = np.ones(10)\n",
    "\n",
    "print('設計矩陣為：')\n",
    "print(X)"
   ]
  },
  {
   "cell_type": "code",
   "execution_count": 8,
   "metadata": {},
   "outputs": [
    {
     "name": "stdout",
     "output_type": "stream",
     "text": [
      "alpha的值为：\n",
      "(200,)\n"
     ]
    }
   ],
   "source": [
    "# alpha 取值為10的-10 到 10的-2 之間的連續的200個值\n",
    "n_alphas = 200\n",
    "alphas = np.logspace(-10, -2, n_alphas)\n",
    "print('alpha的值为：')\n",
    "print(alphas.shape)"
   ]
  },
  {
   "cell_type": "code",
   "execution_count": 5,
   "metadata": {},
   "outputs": [],
   "source": [
    "# 初始化一個Ridge Regression\n",
    "clf = linear_model.Ridge(fit_intercept=False)\n",
    "\n",
    "# 參數矩阵，即每一個alpha對於的參數所组成的矩陣\n",
    "coefs = []\n",
    "\n",
    "# 根據不同的alpha訓練出不同的模型參數\n",
    "for a in alphas:\n",
    "    clf.set_params(alpha=a)\n",
    "    clf.fit(X, y)\n",
    "    coefs.append(clf.coef_)"
   ]
  },
  {
   "cell_type": "code",
   "execution_count": 6,
   "metadata": {},
   "outputs": [
    {
     "ename": "AttributeError",
     "evalue": "'AxesSubplot' object has no attribute 'set_color_cycle'",
     "output_type": "error",
     "traceback": [
      "\u001b[1;31m---------------------------------------------------------------------------\u001b[0m",
      "\u001b[1;31mAttributeError\u001b[0m                            Traceback (most recent call last)",
      "\u001b[1;32m<ipython-input-6-ca1c20abbf9d>\u001b[0m in \u001b[0;36m<module>\u001b[1;34m\u001b[0m\n\u001b[0;32m      2\u001b[0m \u001b[0max\u001b[0m \u001b[1;33m=\u001b[0m \u001b[0mplt\u001b[0m\u001b[1;33m.\u001b[0m\u001b[0mgca\u001b[0m\u001b[1;33m(\u001b[0m\u001b[1;33m)\u001b[0m\u001b[1;33m\u001b[0m\u001b[1;33m\u001b[0m\u001b[0m\n\u001b[0;32m      3\u001b[0m \u001b[1;31m# 參數中每一個维度使用一個颜色表示\u001b[0m\u001b[1;33m\u001b[0m\u001b[1;33m\u001b[0m\u001b[1;33m\u001b[0m\u001b[0m\n\u001b[1;32m----> 4\u001b[1;33m \u001b[0max\u001b[0m\u001b[1;33m.\u001b[0m\u001b[0mset_color_cycle\u001b[0m\u001b[1;33m(\u001b[0m\u001b[1;33m[\u001b[0m\u001b[1;34m'b'\u001b[0m\u001b[1;33m,\u001b[0m \u001b[1;34m'r'\u001b[0m\u001b[1;33m,\u001b[0m \u001b[1;34m'g'\u001b[0m\u001b[1;33m,\u001b[0m \u001b[1;34m'c'\u001b[0m\u001b[1;33m,\u001b[0m \u001b[1;34m'k'\u001b[0m\u001b[1;33m]\u001b[0m\u001b[1;33m)\u001b[0m\u001b[1;33m\u001b[0m\u001b[1;33m\u001b[0m\u001b[0m\n\u001b[0m\u001b[0;32m      5\u001b[0m \u001b[1;33m\u001b[0m\u001b[0m\n\u001b[0;32m      6\u001b[0m \u001b[1;31m# 繪製alpha和對應的参数之間的關係圖\u001b[0m\u001b[1;33m\u001b[0m\u001b[1;33m\u001b[0m\u001b[1;33m\u001b[0m\u001b[0m\n",
      "\u001b[1;31mAttributeError\u001b[0m: 'AxesSubplot' object has no attribute 'set_color_cycle'"
     ]
    },
    {
     "data": {
      "image/png": "[encoded data removed]",
      "text/plain": [
       "<Figure size 432x288 with 1 Axes>"
      ]
     },
     "metadata": {
      "needs_background": "light"
     },
     "output_type": "display_data"
    }
   ],
   "source": [
    "# 獲得繪圖\n",
    "ax = plt.gca()\n",
    "# 參數中每一個维度使用一個颜色表示\n",
    "ax.set_color_cycle(['b', 'r', 'g', 'c', 'k'])\n",
    "\n",
    "# 繪製alpha和對應的参数之間的關係圖\n",
    "ax.plot(alphas, coefs)\n",
    "ax.set_xscale('log')    #x軸使用對數表示\n",
    "ax.set_xlim(ax.get_xlim()[::-1])  # 將x軸反轉，便於顯示\n",
    "plt.grid()\n",
    "plt.xlabel('alpha')\n",
    "plt.ylabel('weights')\n",
    "plt.title('Ridge coefficients as a function of the regularization')\n",
    "plt.axis('tight')\n",
    "plt.show()"
   ]
  },
  {
   "cell_type": "code",
   "execution_count": null,
   "metadata": {},
   "outputs": [],
   "source": []
  }
 ],
 "metadata": {
  "kernelspec": {
   "display_name": "Python 3",
   "language": "python",
   "name": "python3"
  },
  "language_info": {
   "codemirror_mode": {
    "name": "ipython",
    "version": 3
   },
   "file_extension": ".py",
   "mimetype": "text/x-python",
   "name": "python",
   "nbconvert_exporter": "python",
   "pygments_lexer": "ipython3",
   "version": "3.6.10"
  }
 },
 "nbformat": 4,
 "nbformat_minor": 4
}
