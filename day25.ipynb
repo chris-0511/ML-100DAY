{
 "cells": [
  {
   "cell_type": "markdown",
   "metadata": {},
   "source": [
    "# 新增星期幾(day of week)與第幾周(week of year)這兩項特徵, 觀察有什麼影響 (In[4], Out[4], In[5], Out[5])\n",
    "新增加上年週期與周周期特徵 , 觀察有什麼影響 (In[8], Out[8], In[9], Out[9])"
   ]
  },
  {
   "cell_type": "markdown",
   "metadata": {},
   "source": [
    "# strptime(將文字解析成時間物件) 以及 .strftime (轉出時間物件各欄位成文字)，以及右邊這張表(網頁最下方)，其中除了常見的年月日時分秒外，還有 %w(星期幾)，%U(第幾周) 這種方便的轉換函數呢!"
   ]
  },
  {
   "cell_type": "code",
   "execution_count": null,
   "metadata": {},
   "outputs": [],
   "source": [
    "# 做完特徵工程前的所有準備\n",
    "import pandas as pd\n",
    "import numpy as np\n",
    "import datetime\n",
    "from sklearn.preprocessing import MinMaxScaler\n",
    "from sklearn.model_selection import cross_val_score\n",
    "from sklearn.linear_model import LinearRegression\n",
    "from sklearn.ensemble import GradientBoostingRegressor\n",
    "data_path = 'data/Part02/'\n",
    "df = pd.read_csv(data_path + 'taxi_train.csv')\n",
    "\n",
    "train_y=df['fare_amount']\n",
    "df=df.drop(df['fare_amount'],axis=1)\n",
    "df.head()"
   ]
  },
  {
   "cell_type": "code",
   "execution_count": 2,
   "metadata": {},
   "outputs": [
    {
     "data": {
      "text/plain": [
       "datetime.datetime(2020, 7, 9, 20, 1, 39, 832693)"
      ]
     },
     "execution_count": 2,
     "metadata": {},
     "output_type": "execute_result"
    }
   ],
   "source": [
    "# 時間特徵分解方式:使用datetime\n",
    "df['pickup_datetime'] = df['pickup_datetime'].apply(lambda x: datetime.datetime.strptime(x, '%Y-%m-%d %H:%M:%S UTC'))\n",
    "df['pickup_year'] = df['pickup_datetime'].apply(lambda x: datetime.datetime.strftime(x, '%Y')).astype('int64')\n",
    "df['pickup_month'] = df['pickup_datetime'].apply(lambda x: datetime.datetime.strftime(x, '%m')).astype('int64')\n",
    "df['pickup_day'] = df['pickup_datetime'].apply(lambda x: datetime.datetime.strftime(x, '%d')).astype('int64')\n",
    "df['pickup_hour'] = df['pickup_datetime'].apply(lambda x: datetime.datetime.strftime(x, '%H')).astype('int64')\n",
    "df['pickup_minute'] = df['pickup_datetime'].apply(lambda x: datetime.datetime.strftime(x, '%M')).astype('int64')\n",
    "df['pickup_second'] = df['pickup_datetime'].apply(lambda x: datetime.datetime.strftime(x, '%S')).astype('int64')\n",
    "df.head()"
   ]
  },
  {
   "cell_type": "code",
   "execution_count": null,
   "metadata": {},
   "outputs": [],
   "source": [
    "# 將結果使用線性迴歸 / 梯度提升樹分別看結果\n",
    "df_temp = df.drop(['pickup_datetime'] , axis=1)\n",
    "scaler = MinMaxScaler()\n",
    "train_X = scaler.fit_transform(df_temp)\n",
    "Linear = LinearRegression()\n",
    "print(f'Linear Reg Score : {cross_val_score(Linear, train_X, train_Y, cv=5).mean()}')\n",
    "GDBT = GradientBoostingRegressor()\n",
    "print(f'Gradient Boosting Reg Score : {cross_val_score(GDBT, train_X, train_Y, cv=5).mean()}')"
   ]
  },
  {
   "cell_type": "code",
   "execution_count": null,
   "metadata": {},
   "outputs": [],
   "source": [
    "#加入星期幾與第幾周兩個特徵\n",
    "\"\"\"\n",
    "Your Code Here\n",
    "\"\"\"\n",
    "#Return the day of the week as an integer, where Monday is 1 and Sunday is 7\n",
    "#星期一傳回 1 星期日傳回 7 感覺更直覺\n",
    "df['pickup_today'] = df['pickup_datetime'].apply(lambda x: datetime.datetime.isoweekday(x)).astype('int64')\n",
    "df['pickup_week'] = df['pickup_datetime'].apply(lambda x: datetime.datetime.strftime(x, \"%W\")).astype('int64')\n",
    "df.head()"
   ]
  },
  {
   "cell_type": "code",
   "execution_count": null,
   "metadata": {},
   "outputs": [],
   "source": [
    "# 將結果使用線性迴歸 / 梯度提升樹分別看結果\n",
    "df_temp = df.drop(['pickup_datetime'] , axis=1)\n",
    "train_X = scaler.fit_transform(df_temp)\n",
    "print(f'Linear Reg Score : {cross_val_score(Linear, train_X, train_Y, cv=5).mean()}')\n",
    "print(f'Gradient Boosting Reg Score : {cross_val_score(GDBT, train_X, train_Y, cv=5).mean()}')"
   ]
  },
  {
   "cell_type": "code",
   "execution_count": null,
   "metadata": {},
   "outputs": [],
   "source": [
    "# 加上\"日週期\"特徵 (參考講義\"週期循環特徵\") \n",
    "# sin((小時/12 + 分/720 + 秒/43200 )π)\n",
    "import math\n",
    "df['day_cycle'] = df['pickup_hour']/12 + df['pickup_minute']/720 + df['pickup_second']/43200\n",
    "df['day_cycle'] = df['day_cycle'].map(lambda x:math.sin(x*math.pi))\n",
    "df.head()\n"
   ]
  },
  {
   "cell_type": "code",
   "execution_count": null,
   "metadata": {},
   "outputs": [],
   "source": [
    "# 將結果使用線性迴歸 / 梯度提升樹分別看結果\n",
    "df_temp = df.drop(['pickup_datetime'] , axis=1)\n",
    "train_X = scaler.fit_transform(df_temp)\n",
    "print(f'Linear Reg Score : {cross_val_score(Linear, train_X, train_Y, cv=5).mean()}')\n",
    "print(f'Gradient Boosting Reg Score : {cross_val_score(GDBT, train_X, train_Y, cv=5).mean()}')"
   ]
  },
  {
   "cell_type": "code",
   "execution_count": null,
   "metadata": {},
   "outputs": [],
   "source": [
    "\n",
    "# 加上\"年週期\"與\"周週期\"特徵\n",
    "# 年週期： cos((月/6 + 日/180 )π)\n",
    "# 周週期： sin((星期幾/3.5 + 小時/84 )π)\n",
    "\"\"\"\n",
    "Your Code Here\n",
    "\"\"\"\n",
    "df['year_cycle'] = df['pickup_month']/6 + df['pickup_day']/180\n",
    "df['year_cycle'] = df['year_cycle'].map(lambda x:math.sin(x*math.pi))\n",
    "\n",
    "df['week_cycle'] = df['pickup_week']/3.5 + df['pickup_hour']/84\n",
    "df['week_cycle'] = df['week_cycle'].map(lambda x:math.sin(x*math.pi))\n",
    "\n",
    "df.head()"
   ]
  },
  {
   "cell_type": "code",
   "execution_count": null,
   "metadata": {},
   "outputs": [],
   "source": [
    "\n",
    "# 將結果使用線性迴歸 / 梯度提升樹分別看結果\n",
    "df_temp = df.drop(['pickup_datetime'] , axis=1)\n",
    "train_X = scaler.fit_transform(df_temp)\n",
    "print(f'Linear Reg Score : {cross_val_score(Linear, train_X, train_Y, cv=5).mean()}')\n",
    "print(f'Gradient Boosting Reg Score : {cross_val_score(GDBT, train_X, train_Y, cv=5).mean()}')"
   ]
  }
 ],
 "metadata": {
  "kernelspec": {
   "display_name": "Python 3",
   "language": "python",
   "name": "python3"
  },
  "language_info": {
   "codemirror_mode": {
    "name": "ipython",
    "version": 3
   },
   "file_extension": ".py",
   "mimetype": "text/x-python",
   "name": "python",
   "nbconvert_exporter": "python",
   "pygments_lexer": "ipython3",
   "version": "3.6.10"
  }
 },
 "nbformat": 4,
 "nbformat_minor": 4
}
