{
 "cells": [
  {
   "cell_type": "markdown",
   "metadata": {},
   "source": [
    "# 了解線性回歸的模型發展歷程，並了解優勢與劣勢，以及其使用情境\n",
    "\n",
    "推薦文章：\n",
    "教授 Andrew Ng 教你 Linear regression: https://zh-tw.coursera.org/lecture/machine-learning/model-representation-db3jS"
   ]
  },
  {
   "cell_type": "markdown",
   "metadata": {},
   "source": [
    "\n",
    "Logistic regression 數學原理: https://blog.csdn.net/qq_23269761/article/details/81778585"
   ]
  },
  {
   "cell_type": "markdown",
   "metadata": {},
   "source": [
    "作業\n",
    "請閱讀以下相關文獻，並回答以下問題\n",
    "\n",
    "Linear Regression 詳細介紹https://brohrer.mcknote.com/zh-Hant/how_machine_learning_works/how_linear_regression_works.html\n",
    "\n",
    "Logistics Regression 詳細介紹https://medium.com/jameslearningnote/%E8%B3%87%E6%96%99%E5%88%86%E6%9E%90-%E6%A9%9F%E5%99%A8%E5%AD%B8%E7%BF%92-%E7%AC%AC3-3%E8%AC%9B-%E7%B7%9A%E6%80%A7%E5%88%86%E9%A1%9E-%E9%82%8F%E8%BC%AF%E6%96%AF%E5%9B%9E%E6%AD%B8-logistic-regression-%E4%BB%8B%E7%B4%B9-a1a5f47017e5\n",
    "\n",
    "線性回歸模型能夠準確預測非線性關係的資料集嗎?\n",
    "回歸模型是否對資料分布有基本假設?\n",
    "Ans:\n",
    "\n",
    "線性迴歸模型是屬於一條直線的函數，如果資料分布是屬於非線性關係，是無法準確的預測的。除非加入一些非線性轉換的函數，還能夠有效的預測。\n",
    "回歸模型基本假設 or (https://blog.csdn.net/Noob_daniel/article/details/76087829)\n",
    "假設模型: 其估計式為:Y=B0+B1X1\n",
    "誤差項需滿足三大假設: 1.常態性(Normality) 2.獨立性(Independency) 3.變異數同質性(Constant Variance)\n",
    "In [ ]:\n"
   ]
  },
  {
   "cell_type": "markdown",
   "metadata": {},
   "source": [
    "回歸模型基本假設:https://www.yongxi-stat.com/simple-regression-analysis/"
   ]
  },
  {
   "cell_type": "code",
   "execution_count": null,
   "metadata": {},
   "outputs": [],
   "source": []
  }
 ],
 "metadata": {
  "kernelspec": {
   "display_name": "Python 3",
   "language": "python",
   "name": "python3"
  },
  "language_info": {
   "codemirror_mode": {
    "name": "ipython",
    "version": 3
   },
   "file_extension": ".py",
   "mimetype": "text/x-python",
   "name": "python",
   "nbconvert_exporter": "python",
   "pygments_lexer": "ipython3",
   "version": "3.6.10"
  }
 },
 "nbformat": 4,
 "nbformat_minor": 4
}
