{
 "cells": [
  {
   "cell_type": "markdown",
   "metadata": {},
   "source": [
    "# 學習 sklearn 中，各種評估指標的使用與意義"
   ]
  },
  {
   "cell_type": "code",
   "execution_count": 1,
   "metadata": {},
   "outputs": [],
   "source": [
    "from sklearn import metrics, datasets\n",
    "from sklearn.linear_model import LinearRegression\n",
    "from sklearn.model_selection import train_test_split\n",
    "\n",
    "import matplotlib.pyplot as plt\n",
    "from matplotlib.pylab import rcParams\n",
    "import numpy as np\n",
    "%matplotlib inline"
   ]
  },
  {
   "cell_type": "markdown",
   "metadata": {},
   "source": [
    "# 回歸問題"
   ]
  },
  {
   "cell_type": "markdown",
   "metadata": {},
   "source": [
    "常見的評估指標有\n",
    "\n",
    "MAE\n",
    "MSE\n",
    "R-square"
   ]
  },
  {
   "cell_type": "code",
   "execution_count": 4,
   "metadata": {},
   "outputs": [
    {
     "name": "stdout",
     "output_type": "stream",
     "text": [
      "MAE:  2.8417972525655664\n",
      "MSE:  12.488680067398237\n",
      "R-square:  0.9916581036260311\n"
     ]
    }
   ],
   "source": [
    "X, y = datasets.make_regression(n_features=1, random_state=42, noise=4) # 生成資料\n",
    "model = LinearRegression() # 建立回歸模型\n",
    "model.fit(X, y) # 將資料放進模型訓練\n",
    "prediction = model.predict(X) # 進行預測\n",
    "mae = metrics.mean_absolute_error(prediction, y) # 使用 MAE 評估\n",
    "mse = metrics.mean_squared_error(prediction, y) # 使用 MSE 評估\n",
    "r2 = metrics.r2_score(prediction, y) # 使用 r-square 評估\n",
    "print(\"MAE: \", mae)\n",
    "print(\"MSE: \", mse)\n",
    "print(\"R-square: \", r2)"
   ]
  },
  {
   "cell_type": "markdown",
   "metadata": {},
   "source": [
    "# 分類問題"
   ]
  },
  {
   "cell_type": "markdown",
   "metadata": {},
   "source": [
    "常見的評估指標有\n",
    "\n",
    "AUC\n",
    "F1-Score (Precision, Recall)"
   ]
  },
  {
   "cell_type": "code",
   "execution_count": 5,
   "metadata": {},
   "outputs": [],
   "source": [
    "cancer = datasets.load_breast_cancer() # 我們使用 sklearn 內含的乳癌資料集\n",
    "X_train, X_test, y_train, y_test = train_test_split(cancer.data, cancer.target, test_size=50, random_state=0)"
   ]
  },
  {
   "cell_type": "code",
   "execution_count": 8,
   "metadata": {},
   "outputs": [
    {
     "name": "stdout",
     "output_type": "stream",
     "text": [
      "[0 1 1 1 1 1 1 1 1 1 1 1 1 1 1 0 1 0 0 0 0 0 1 1 0 1 1 0 1 0 1 0 1 0 1 0 1\n",
      " 0 1 0 0 1 0 1 1 0 1 1 1 0]\n"
     ]
    }
   ],
   "source": [
    "print(y_test) # 測試集中的 label"
   ]
  },
  {
   "cell_type": "code",
   "execution_count": 9,
   "metadata": {},
   "outputs": [],
   "source": [
    "y_pred = np.random.random((50,)) # 我們先隨機生成 50 筆預測值，範圍都在 0~1 之間，代表機率值"
   ]
  },
  {
   "cell_type": "code",
   "execution_count": 10,
   "metadata": {},
   "outputs": [
    {
     "name": "stdout",
     "output_type": "stream",
     "text": [
      "[0.68558721 0.93332484 0.35310591 0.06262862 0.86924599 0.84440612\n",
      " 0.68951721 0.63614162 0.56707252 0.09261233 0.18689032 0.0438376\n",
      " 0.25683203 0.33091216 0.89584354 0.73392786 0.6975289  0.02019185\n",
      " 0.40391819 0.24370716 0.20752411 0.55472326 0.14622762 0.99846489\n",
      " 0.80172805 0.03099874 0.83940347 0.99186895 0.41884408 0.64761433\n",
      " 0.69185207 0.66208781 0.74181528 0.33521694 0.05807542 0.27377427\n",
      " 0.89759295 0.9360397  0.71361829 0.88082942 0.30181386 0.84102777\n",
      " 0.61459749 0.41836461 0.5613306  0.77418987 0.22243076 0.86294423\n",
      " 0.62005896 0.29947308]\n"
     ]
    }
   ],
   "source": [
    "print(y_pred)"
   ]
  },
  {
   "cell_type": "markdown",
   "metadata": {},
   "source": [
    "# AUC"
   ]
  },
  {
   "cell_type": "code",
   "execution_count": 11,
   "metadata": {},
   "outputs": [
    {
     "name": "stdout",
     "output_type": "stream",
     "text": [
      "AUC:  0.5008488964346349\n"
     ]
    }
   ],
   "source": [
    "auc = metrics.roc_auc_score(y_test, y_pred) # 使用 roc_auc_score 來評估。 **這邊特別注意 y_pred 必須要放機率值進去!**\n",
    "print(\"AUC: \", auc) # 得到結果約 0.5，與亂猜的結果相近，因為我們的預測值是用隨機生成的"
   ]
  },
  {
   "cell_type": "markdown",
   "metadata": {},
   "source": [
    "# F1-Score"
   ]
  },
  {
   "cell_type": "code",
   "execution_count": 12,
   "metadata": {},
   "outputs": [
    {
     "name": "stdout",
     "output_type": "stream",
     "text": [
      "F1-Score:  0.6000000000000001\n",
      "Precision:  0.6206896551724138\n",
      "Recall:  0.5806451612903226\n"
     ]
    }
   ],
   "source": [
    "threshold = 0.5 \n",
    "y_pred_binarized = np.where(y_pred>threshold, 1, 0) # 使用 np.where 函數, 將 y_pred > 0.5 的值變為 1，小於 0.5 的為 0\n",
    "f1 = metrics.f1_score(y_test, y_pred_binarized) # F1-score 越高，说明分类模型越稳健\n",
    "precision = metrics.precision_score(y_test, y_pred_binarized) # precision 体现了模型对负样本的区分能力，precision越高，说明模型对负样本的区分能力越强\n",
    "recall  = metrics.recall_score(y_test, y_pred_binarized) # recall 体现了分类模型对正样本的识别能力，recall 越高，说明模型对正样本的识别能力越强\n",
    "print(\"F1-Score: \", f1) \n",
    "print(\"Precision: \", precision)\n",
    "print(\"Recall: \", recall)"
   ]
  },
  {
   "cell_type": "markdown",
   "metadata": {},
   "source": [
    "https://www.ycc.idv.tw/confusion-matrix.html"
   ]
  },
  {
   "cell_type": "code",
   "execution_count": null,
   "metadata": {},
   "outputs": [],
   "source": []
  }
 ],
 "metadata": {
  "kernelspec": {
   "display_name": "Python 3",
   "language": "python",
   "name": "python3"
  },
  "language_info": {
   "codemirror_mode": {
    "name": "ipython",
    "version": 3
   },
   "file_extension": ".py",
   "mimetype": "text/x-python",
   "name": "python",
   "nbconvert_exporter": "python",
   "pygments_lexer": "ipython3",
   "version": "3.6.10"
  }
 },
 "nbformat": 4,
 "nbformat_minor": 4
}
